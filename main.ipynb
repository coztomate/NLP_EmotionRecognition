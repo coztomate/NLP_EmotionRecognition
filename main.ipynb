{
 "cells": [
  {
   "cell_type": "markdown",
   "metadata": {},
   "source": [
    "# Emotion Recognition from Twitter Posts\n",
    "\n",
    "Building a system for automatic categorization of text into six emotions using text-based emotion recognition with LSTMs.\n",
    "\n",
    "A dataset of English Twitter messages with six basic emotions: anger, fear, joy, love, sadness, and surprise. \n",
    "The dataset can be retrieved from either https://github.com/dair-ai/emotion_dataset or Kaggle https://www.kaggle.com/datasets/parulpandey/emotion-dataset/ .\n",
    "\n",
    "\n"
   ]
  },
  {
   "cell_type": "code",
   "execution_count": 1,
   "metadata": {},
   "outputs": [],
   "source": [
    "#import libraries\n",
    "%matplotlib inline\n",
    "\n",
    "import pandas as pd\n",
    "import numpy as np\n",
    "import matplotlib.pyplot as plt\n",
    "import tensorflow as tf\n",
    "import random\n",
    "\n",
    "import sys\n",
    "sys.path.append(\"src\")\n"
   ]
  },
  {
   "cell_type": "markdown",
   "metadata": {},
   "source": [
    "## Importing and Splitting the Data\n"
   ]
  },
  {
   "cell_type": "code",
   "execution_count": 2,
   "metadata": {},
   "outputs": [],
   "source": [
    "#load the datasets\n",
    "train = pd.read_csv('data/training.csv')\n",
    "val = pd.read_csv('data/validation.csv')\n",
    "test = pd.read_csv('data/test.csv')"
   ]
  },
  {
   "cell_type": "code",
   "execution_count": 3,
   "metadata": {},
   "outputs": [
    {
     "name": "stdout",
     "output_type": "stream",
     "text": [
      "Train data : (16000, 2)\n",
      "Validation data : (2000, 2)\n",
      "Test data : (2000, 2)\n"
     ]
    }
   ],
   "source": [
    "#inspecting shape of data\n",
    "print(\"Train data :\",train.shape)\n",
    "print(\"Validation data :\",val.shape)\n",
    "print(\"Test data :\",test.shape)"
   ]
  },
  {
   "cell_type": "code",
   "execution_count": 4,
   "metadata": {},
   "outputs": [
    {
     "data": {
      "text/html": [
       "<div>\n",
       "<style scoped>\n",
       "    .dataframe tbody tr th:only-of-type {\n",
       "        vertical-align: middle;\n",
       "    }\n",
       "\n",
       "    .dataframe tbody tr th {\n",
       "        vertical-align: top;\n",
       "    }\n",
       "\n",
       "    .dataframe thead th {\n",
       "        text-align: right;\n",
       "    }\n",
       "</style>\n",
       "<table border=\"1\" class=\"dataframe\">\n",
       "  <thead>\n",
       "    <tr style=\"text-align: right;\">\n",
       "      <th></th>\n",
       "      <th>text</th>\n",
       "      <th>label</th>\n",
       "    </tr>\n",
       "  </thead>\n",
       "  <tbody>\n",
       "    <tr>\n",
       "      <th>0</th>\n",
       "      <td>i didnt feel humiliated</td>\n",
       "      <td>0</td>\n",
       "    </tr>\n",
       "    <tr>\n",
       "      <th>1</th>\n",
       "      <td>i can go from feeling so hopeless to so damned...</td>\n",
       "      <td>0</td>\n",
       "    </tr>\n",
       "    <tr>\n",
       "      <th>2</th>\n",
       "      <td>im grabbing a minute to post i feel greedy wrong</td>\n",
       "      <td>3</td>\n",
       "    </tr>\n",
       "    <tr>\n",
       "      <th>3</th>\n",
       "      <td>i am ever feeling nostalgic about the fireplac...</td>\n",
       "      <td>2</td>\n",
       "    </tr>\n",
       "    <tr>\n",
       "      <th>4</th>\n",
       "      <td>i am feeling grouchy</td>\n",
       "      <td>3</td>\n",
       "    </tr>\n",
       "    <tr>\n",
       "      <th>5</th>\n",
       "      <td>ive been feeling a little burdened lately wasn...</td>\n",
       "      <td>0</td>\n",
       "    </tr>\n",
       "    <tr>\n",
       "      <th>6</th>\n",
       "      <td>ive been taking or milligrams or times recomme...</td>\n",
       "      <td>5</td>\n",
       "    </tr>\n",
       "    <tr>\n",
       "      <th>7</th>\n",
       "      <td>i feel as confused about life as a teenager or...</td>\n",
       "      <td>4</td>\n",
       "    </tr>\n",
       "    <tr>\n",
       "      <th>8</th>\n",
       "      <td>i have been with petronas for years i feel tha...</td>\n",
       "      <td>1</td>\n",
       "    </tr>\n",
       "    <tr>\n",
       "      <th>9</th>\n",
       "      <td>i feel romantic too</td>\n",
       "      <td>2</td>\n",
       "    </tr>\n",
       "  </tbody>\n",
       "</table>\n",
       "</div>"
      ],
      "text/plain": [
       "                                                text  label\n",
       "0                            i didnt feel humiliated      0\n",
       "1  i can go from feeling so hopeless to so damned...      0\n",
       "2   im grabbing a minute to post i feel greedy wrong      3\n",
       "3  i am ever feeling nostalgic about the fireplac...      2\n",
       "4                               i am feeling grouchy      3\n",
       "5  ive been feeling a little burdened lately wasn...      0\n",
       "6  ive been taking or milligrams or times recomme...      5\n",
       "7  i feel as confused about life as a teenager or...      4\n",
       "8  i have been with petronas for years i feel tha...      1\n",
       "9                                i feel romantic too      2"
      ]
     },
     "execution_count": 4,
     "metadata": {},
     "output_type": "execute_result"
    }
   ],
   "source": [
    "#looking at the first 10 rows\n",
    "train.head(10)"
   ]
  },
  {
   "cell_type": "code",
   "execution_count": 5,
   "metadata": {},
   "outputs": [
    {
     "name": "stdout",
     "output_type": "stream",
     "text": [
      "text     0\n",
      "label    0\n",
      "dtype: int64\n",
      "text     0\n",
      "label    0\n",
      "dtype: int64\n",
      "text     0\n",
      "label    0\n",
      "dtype: int64\n"
     ]
    }
   ],
   "source": [
    "#check for missing values\n",
    "print(train.isnull().sum())\n",
    "print(val.isnull().sum())\n",
    "print(test.isnull().sum())"
   ]
  },
  {
   "cell_type": "markdown",
   "metadata": {},
   "source": [
    "We have two variables: \n",
    "- text: a string feature (the tweet)\n",
    "- label: a classification label, with possible values including 'sadness', 'joy', 'love', 'anger', 'fear', 'surprise'."
   ]
  },
  {
   "cell_type": "code",
   "execution_count": 6,
   "metadata": {},
   "outputs": [],
   "source": [
    "#interating over examples and storing the tweets and labels in lists\n",
    "def get_tweet(dataframe):\n",
    "    tweets = dataframe['text'].tolist()\n",
    "    labels = dataframe['label'].tolist()\n",
    "    return tweets, labels"
   ]
  },
  {
   "cell_type": "code",
   "execution_count": 7,
   "metadata": {},
   "outputs": [],
   "source": [
    "tweets, labels = get_tweet(train)"
   ]
  },
  {
   "cell_type": "markdown",
   "metadata": {},
   "source": [
    "## Preparing the Labels"
   ]
  },
  {
   "cell_type": "code",
   "execution_count": 8,
   "metadata": {},
   "outputs": [
    {
     "name": "stdout",
     "output_type": "stream",
     "text": [
      "{0, 1, 2, 3, 4, 5}\n"
     ]
    }
   ],
   "source": [
    "classes = set(labels)\n",
    "print(classes)"
   ]
  },
  {
   "cell_type": "code",
   "execution_count": 9,
   "metadata": {},
   "outputs": [
    {
     "name": "stdout",
     "output_type": "stream",
     "text": [
      "{'sadness': 0, 'joy': 1, 'love': 2, 'anger': 3, 'fear': 4, 'surprise': 5}\n",
      "{0: 'sadness', 1: 'joy', 2: 'love', 3: 'anger', 4: 'fear', 5: 'surprise'}\n"
     ]
    }
   ],
   "source": [
    "# Emotions in the order specified\n",
    "emotions = ['sadness', 'joy', 'love', 'anger', 'fear', 'surprise']\n",
    "\n",
    "# Create a dictionary that maps from emotion to index\n",
    "class_to_index = {emotion: index for index, emotion in enumerate(emotions)}\n",
    "\n",
    "# Create a dictionary that maps from index to emotion\n",
    "index_to_class = {index: emotion for emotion, index in class_to_index.items()}\n",
    "\n",
    "# Test\n",
    "print(class_to_index)  \n",
    "print(index_to_class) "
   ]
  },
  {
   "cell_type": "code",
   "execution_count": 10,
   "metadata": {},
   "outputs": [
    {
     "data": {
      "text/html": [
       "<div>\n",
       "<style scoped>\n",
       "    .dataframe tbody tr th:only-of-type {\n",
       "        vertical-align: middle;\n",
       "    }\n",
       "\n",
       "    .dataframe tbody tr th {\n",
       "        vertical-align: top;\n",
       "    }\n",
       "\n",
       "    .dataframe thead th {\n",
       "        text-align: right;\n",
       "    }\n",
       "</style>\n",
       "<table border=\"1\" class=\"dataframe\">\n",
       "  <thead>\n",
       "    <tr style=\"text-align: right;\">\n",
       "      <th></th>\n",
       "      <th>text</th>\n",
       "      <th>label</th>\n",
       "      <th>label_name</th>\n",
       "    </tr>\n",
       "  </thead>\n",
       "  <tbody>\n",
       "    <tr>\n",
       "      <th>0</th>\n",
       "      <td>i didnt feel humiliated</td>\n",
       "      <td>0</td>\n",
       "      <td>sadness</td>\n",
       "    </tr>\n",
       "    <tr>\n",
       "      <th>1</th>\n",
       "      <td>i can go from feeling so hopeless to so damned...</td>\n",
       "      <td>0</td>\n",
       "      <td>sadness</td>\n",
       "    </tr>\n",
       "    <tr>\n",
       "      <th>2</th>\n",
       "      <td>im grabbing a minute to post i feel greedy wrong</td>\n",
       "      <td>3</td>\n",
       "      <td>anger</td>\n",
       "    </tr>\n",
       "    <tr>\n",
       "      <th>3</th>\n",
       "      <td>i am ever feeling nostalgic about the fireplac...</td>\n",
       "      <td>2</td>\n",
       "      <td>love</td>\n",
       "    </tr>\n",
       "    <tr>\n",
       "      <th>4</th>\n",
       "      <td>i am feeling grouchy</td>\n",
       "      <td>3</td>\n",
       "      <td>anger</td>\n",
       "    </tr>\n",
       "  </tbody>\n",
       "</table>\n",
       "</div>"
      ],
      "text/plain": [
       "                                                text  label label_name\n",
       "0                            i didnt feel humiliated      0    sadness\n",
       "1  i can go from feeling so hopeless to so damned...      0    sadness\n",
       "2   im grabbing a minute to post i feel greedy wrong      3      anger\n",
       "3  i am ever feeling nostalgic about the fireplac...      2       love\n",
       "4                               i am feeling grouchy      3      anger"
      ]
     },
     "execution_count": 10,
     "metadata": {},
     "output_type": "execute_result"
    }
   ],
   "source": [
    "#adding a string label column\n",
    "train['label_name'] = train['label'].map(index_to_class)\n",
    "val['label_name'] = val['label'].map(index_to_class)\n",
    "test['label_name'] = test['label'].map(index_to_class)\n",
    "\n",
    "train.head()"
   ]
  },
  {
   "cell_type": "code",
   "execution_count": 11,
   "metadata": {},
   "outputs": [
    {
     "data": {
      "image/png": "[encoded data removed]",
      "text/plain": [
       "<Figure size 640x480 with 1 Axes>"
      ]
     },
     "metadata": {},
     "output_type": "display_data"
    }
   ],
   "source": [
    "#plotting the distribution of labels\n",
    "plt.hist(labels, bins=range(len(emotions) + 1), align='left', edgecolor='black')\n",
    "\n",
    "# Set the x-ticks to be at the center of each bin\n",
    "plt.xticks(ticks=range(len(emotions)), labels=emotions)\n",
    "\n",
    "# Optionally, set labels for x and y axis\n",
    "plt.xlabel('Emotions')\n",
    "plt.ylabel('Frequency')\n",
    "\n",
    "# Optionally, set a title\n",
    "plt.title('Distribution of Emotions in Dataset')\n",
    "\n",
    "# Display the histogram\n",
    "plt.show()\n"
   ]
  },
  {
   "cell_type": "code",
   "execution_count": 12,
   "metadata": {},
   "outputs": [
    {
     "data": {
      "text/plain": [
       "label  label_name\n",
       "0      sadness       4666\n",
       "1      joy           5362\n",
       "2      love          1304\n",
       "3      anger         2159\n",
       "4      fear          1937\n",
       "5      surprise       572\n",
       "dtype: int64"
      ]
     },
     "execution_count": 12,
     "metadata": {},
     "output_type": "execute_result"
    }
   ],
   "source": [
    "# distribution in numbers\n",
    "train.groupby([\"label\", \"label_name\"]).size()"
   ]
  },
  {
   "cell_type": "markdown",
   "metadata": {},
   "source": [
    "## Tokenizer\n",
    "\n",
    "Using tensorflows built-in tokenizer in order to convert the text into numbers. Each word is going to get an own token."
   ]
  },
  {
   "cell_type": "code",
   "execution_count": 13,
   "metadata": {},
   "outputs": [],
   "source": [
    "from tensorflow.keras.preprocessing.text import Tokenizer\n",
    "\n",
    "#create a tokenizer object using the tokenizer class only using the 10000 most common words in our corpus; others replaced with UNK\n",
    "tokenizer = Tokenizer(num_words=10000, oov_token='<UNK>')\n",
    "tokenizer.fit_on_texts(tweets)"
   ]
  },
  {
   "cell_type": "code",
   "execution_count": 14,
   "metadata": {},
   "outputs": [
    {
     "data": {
      "text/plain": [
       "[[2, 139, 3, 679]]"
      ]
     },
     "execution_count": 14,
     "metadata": {},
     "output_type": "execute_result"
    }
   ],
   "source": [
    "#check functioning of tokenizer \n",
    "tokenizer.texts_to_sequences([tweets[0]])"
   ]
  },
  {
   "cell_type": "markdown",
   "metadata": {},
   "source": [
    "## Padding and Truncating of Sequences\n",
    "\n",
    "Model needs fixed input shape, so we ensure all sequences have the same length."
   ]
  },
  {
   "cell_type": "code",
   "execution_count": 15,
   "metadata": {},
   "outputs": [
    {
     "data": {
      "text/plain": [
       "<module 'matplotlib.pyplot' from '/Users/katjad/anaconda3/envs/PythonIntro/lib/python3.11/site-packages/matplotlib/pyplot.py'>"
      ]
     },
     "execution_count": 15,
     "metadata": {},
     "output_type": "execute_result"
    },
    {
     "data": {
      "image/png": "[encoded data removed]",
      "text/plain": [
       "<Figure size 640x480 with 1 Axes>"
      ]
     },
     "metadata": {},
     "output_type": "display_data"
    }
   ],
   "source": [
    "#get and plot length of tweets\n",
    "lengths = [len(t.split(' ')) for t in tweets]\n",
    "plt.hist(lengths, bins=len(set(lengths)))\n",
    "plt"
   ]
  },
  {
   "cell_type": "code",
   "execution_count": 16,
   "metadata": {},
   "outputs": [],
   "source": [
    "from tensorflow.keras.preprocessing.sequence import pad_sequences\n",
    "\n",
    "maxlen = 50\n",
    "\n",
    "def get_sequences(tokenizer, tweets):\n",
    "    sequences = tokenizer.texts_to_sequences(tweets)  #converts tweets into sequences of integers\n",
    "    padded_sequences = pad_sequences(sequences, truncating='post', padding='post', maxlen=maxlen) #ensures all sequences have the same length by padding or truncating\n",
    "    return padded_sequences"
   ]
  },
  {
   "cell_type": "code",
   "execution_count": 17,
   "metadata": {},
   "outputs": [],
   "source": [
    "padded_train_seq = get_sequences(tokenizer, tweets)"
   ]
  },
  {
   "cell_type": "code",
   "execution_count": 18,
   "metadata": {},
   "outputs": [
    {
     "data": {
      "text/plain": [
       "array([  2, 139,   3, 679,   0,   0,   0,   0,   0,   0,   0,   0,   0,\n",
       "         0,   0,   0,   0,   0,   0,   0,   0,   0,   0,   0,   0,   0,\n",
       "         0,   0,   0,   0,   0,   0,   0,   0,   0,   0,   0,   0,   0,\n",
       "         0,   0,   0,   0,   0,   0,   0,   0,   0,   0,   0], dtype=int32)"
      ]
     },
     "execution_count": 18,
     "metadata": {},
     "output_type": "execute_result"
    }
   ],
   "source": [
    "padded_train_seq[0]"
   ]
  },
  {
   "cell_type": "markdown",
   "metadata": {},
   "source": [
    "## Creating the Model before Optuna\n",
    "\n",
    "Architecture:\n",
    "- Embedding Layer: turns positive integers (indexes) into dense vectors of fixed size, here 16-dimensional.\n",
    "- Bidirectional LSTM Layers: A Bidirectional wrapper for LSTM layers. The first bidirectional LSTM layer returns the last output in the output sequence for each input sequence (necessary for stacking another LSTM layer on top). The second LSTM layer is also bidirectional and is followed by\n",
    "- the Dense Output Layer: with softmax activation function.\n",
    "\n",
    "Dropout was added to reduce overfitting:\n",
    "- Input dropout in LSTM layer: randomly sets a fraction of the input units to 0 at each update during training time, which helps prevent overfitting on the input side of the LSTM units\n",
    "- (not used/no improvement but also possible:recurrent_dropout=0.5 inside LSTM: This means xx% of the recurrent connections will be randomly excluded from each update during training.)\n",
    "- dropout layer: affects the entire output of the preceding layer"
   ]
  },
  {
   "cell_type": "code",
   "execution_count": 25,
   "metadata": {},
   "outputs": [],
   "source": [
    "from tensorflow.keras import regularizers\n",
    "\n",
    "model = tf.keras.models.Sequential([\n",
    "    tf.keras.layers.Embedding(10000, 16, input_length=maxlen),   #embedding layer, each word represented as a 16-dimensional vector\n",
    "    tf.keras.layers.Bidirectional(tf.keras.layers.LSTM(20, return_sequences=True,\n",
    "                                                       dropout=0.5)),  #bidirectional LSTM layer, the context in LSTM can go in both directions (left-right), returns output of all of the cells and not just last cell\n",
    "    tf.keras.layers.Bidirectional(tf.keras.layers.LSTM(20, dropout=0.5)),  #bidirectional LSTM layer\n",
    "    tf.keras.layers.Dropout(0.5),\n",
    "    tf.keras.layers.Dense(6, activation='softmax')  #dense layer with softmax activation \n",
    "])\n",
    "\n",
    "\n",
    "model.compile(\n",
    "    loss='sparse_categorical_crossentropy',\n",
    "    optimizer='RMSprop',\n",
    "    metrics=['accuracy']\n",
    ")\n"
   ]
  },
  {
   "cell_type": "code",
   "execution_count": 26,
   "metadata": {},
   "outputs": [
    {
     "name": "stdout",
     "output_type": "stream",
     "text": [
      "Model: \"sequential_1\"\n",
      "_________________________________________________________________\n",
      " Layer (type)                Output Shape              Param #   \n",
      "=================================================================\n",
      " embedding_1 (Embedding)     (None, 50, 16)            160000    \n",
      "                                                                 \n",
      " bidirectional_2 (Bidirecti  (None, 50, 40)            5920      \n",
      " onal)                                                           \n",
      "                                                                 \n",
      " bidirectional_3 (Bidirecti  (None, 40)                9760      \n",
      " onal)                                                           \n",
      "                                                                 \n",
      " dropout (Dropout)           (None, 40)                0         \n",
      "                                                                 \n",
      " dense_1 (Dense)             (None, 6)                 246       \n",
      "                                                                 \n",
      "=================================================================\n",
      "Total params: 175926 (687.21 KB)\n",
      "Trainable params: 175926 (687.21 KB)\n",
      "Non-trainable params: 0 (0.00 Byte)\n",
      "_________________________________________________________________\n"
     ]
    }
   ],
   "source": [
    "model.summary()"
   ]
  },
  {
   "cell_type": "code",
   "execution_count": 51,
   "metadata": {},
   "outputs": [],
   "source": [
    "#callbacks\n",
    "from tensorflow.keras.callbacks import ModelCheckpoint, EarlyStopping, ReduceLROnPlateau\n",
    "\n",
    "checkpoint = ModelCheckpoint(\"best_model\", monitor='val_accuracy', verbose=0,\n",
    "    save_best_only=True, mode='max', save_freq='epoch')\n",
    "early = EarlyStopping(monitor='val_accuracy', min_delta=0, patience=10, verbose=1, mode='auto')\n",
    "reduce_lr = ReduceLROnPlateau(monitor='val_accuracy', factor=0.2, patience=3, verbose=1, min_delta=0.0001)\n",
    "\n",
    "callbacks = [\n",
    "    checkpoint, \n",
    "    #early, \n",
    "    reduce_lr]"
   ]
  },
  {
   "cell_type": "markdown",
   "metadata": {},
   "source": [
    "## Training the Model before Optuna"
   ]
  },
  {
   "cell_type": "code",
   "execution_count": 28,
   "metadata": {},
   "outputs": [],
   "source": [
    "#preparing the validation set\n",
    "val_tweets, val_labels = get_tweet(val)\n",
    "val_seq = get_sequences(tokenizer, val_tweets)\n"
   ]
  },
  {
   "cell_type": "code",
   "execution_count": 29,
   "metadata": {},
   "outputs": [
    {
     "name": "stdout",
     "output_type": "stream",
     "text": [
      "Epoch 1/50\n",
      "499/500 [============================>.] - ETA: 0s - loss: 1.5634 - accuracy: 0.3384INFO:tensorflow:Assets written to: best_model/assets\n"
     ]
    },
    {
     "name": "stderr",
     "output_type": "stream",
     "text": [
      "INFO:tensorflow:Assets written to: best_model/assets\n"
     ]
    },
    {
     "name": "stdout",
     "output_type": "stream",
     "text": [
      "500/500 [==============================] - 13s 22ms/step - loss: 1.5632 - accuracy: 0.3384 - val_loss: 1.3525 - val_accuracy: 0.4145 - lr: 0.0010\n",
      "Epoch 2/50\n",
      "496/500 [============================>.] - ETA: 0s - loss: 1.1779 - accuracy: 0.5156INFO:tensorflow:Assets written to: best_model/assets\n"
     ]
    },
    {
     "name": "stderr",
     "output_type": "stream",
     "text": [
      "INFO:tensorflow:Assets written to: best_model/assets\n"
     ]
    },
    {
     "name": "stdout",
     "output_type": "stream",
     "text": [
      "500/500 [==============================] - 11s 21ms/step - loss: 1.1772 - accuracy: 0.5159 - val_loss: 0.9203 - val_accuracy: 0.6410 - lr: 0.0010\n",
      "Epoch 3/50\n",
      "500/500 [==============================] - ETA: 0s - loss: 0.8627 - accuracy: 0.6666INFO:tensorflow:Assets written to: best_model/assets\n"
     ]
    },
    {
     "name": "stderr",
     "output_type": "stream",
     "text": [
      "INFO:tensorflow:Assets written to: best_model/assets\n"
     ]
    },
    {
     "name": "stdout",
     "output_type": "stream",
     "text": [
      "500/500 [==============================] - 10s 21ms/step - loss: 0.8627 - accuracy: 0.6666 - val_loss: 0.7430 - val_accuracy: 0.7035 - lr: 0.0010\n",
      "Epoch 4/50\n",
      "500/500 [==============================] - 5s 9ms/step - loss: 0.7228 - accuracy: 0.7094 - val_loss: 0.7544 - val_accuracy: 0.6995 - lr: 0.0010\n",
      "Epoch 5/50\n",
      "500/500 [==============================] - ETA: 0s - loss: 0.6548 - accuracy: 0.7385INFO:tensorflow:Assets written to: best_model/assets\n"
     ]
    },
    {
     "name": "stderr",
     "output_type": "stream",
     "text": [
      "INFO:tensorflow:Assets written to: best_model/assets\n"
     ]
    },
    {
     "name": "stdout",
     "output_type": "stream",
     "text": [
      "500/500 [==============================] - 10s 20ms/step - loss: 0.6548 - accuracy: 0.7385 - val_loss: 0.6345 - val_accuracy: 0.7470 - lr: 0.0010\n",
      "Epoch 6/50\n",
      "497/500 [============================>.] - ETA: 0s - loss: 0.6058 - accuracy: 0.7558INFO:tensorflow:Assets written to: best_model/assets\n"
     ]
    },
    {
     "name": "stderr",
     "output_type": "stream",
     "text": [
      "INFO:tensorflow:Assets written to: best_model/assets\n"
     ]
    },
    {
     "name": "stdout",
     "output_type": "stream",
     "text": [
      "500/500 [==============================] - 10s 20ms/step - loss: 0.6063 - accuracy: 0.7556 - val_loss: 0.6127 - val_accuracy: 0.7805 - lr: 0.0010\n",
      "Epoch 7/50\n",
      "495/500 [============================>.] - ETA: 0s - loss: 0.5742 - accuracy: 0.7797INFO:tensorflow:Assets written to: best_model/assets\n"
     ]
    },
    {
     "name": "stderr",
     "output_type": "stream",
     "text": [
      "INFO:tensorflow:Assets written to: best_model/assets\n"
     ]
    },
    {
     "name": "stdout",
     "output_type": "stream",
     "text": [
      "500/500 [==============================] - 10s 20ms/step - loss: 0.5754 - accuracy: 0.7793 - val_loss: 0.5739 - val_accuracy: 0.8110 - lr: 0.0010\n",
      "Epoch 8/50\n",
      "497/500 [============================>.] - ETA: 0s - loss: 0.5389 - accuracy: 0.8094INFO:tensorflow:Assets written to: best_model/assets\n"
     ]
    },
    {
     "name": "stderr",
     "output_type": "stream",
     "text": [
      "INFO:tensorflow:Assets written to: best_model/assets\n"
     ]
    },
    {
     "name": "stdout",
     "output_type": "stream",
     "text": [
      "500/500 [==============================] - 10s 20ms/step - loss: 0.5388 - accuracy: 0.8093 - val_loss: 0.5408 - val_accuracy: 0.8220 - lr: 0.0010\n",
      "Epoch 9/50\n",
      "499/500 [============================>.] - ETA: 0s - loss: 0.4859 - accuracy: 0.8332INFO:tensorflow:Assets written to: best_model/assets\n"
     ]
    },
    {
     "name": "stderr",
     "output_type": "stream",
     "text": [
      "INFO:tensorflow:Assets written to: best_model/assets\n"
     ]
    },
    {
     "name": "stdout",
     "output_type": "stream",
     "text": [
      "500/500 [==============================] - 11s 21ms/step - loss: 0.4856 - accuracy: 0.8332 - val_loss: 0.4915 - val_accuracy: 0.8315 - lr: 0.0010\n",
      "Epoch 10/50\n",
      "495/500 [============================>.] - ETA: 0s - loss: 0.4561 - accuracy: 0.8496INFO:tensorflow:Assets written to: best_model/assets\n"
     ]
    },
    {
     "name": "stderr",
     "output_type": "stream",
     "text": [
      "INFO:tensorflow:Assets written to: best_model/assets\n"
     ]
    },
    {
     "name": "stdout",
     "output_type": "stream",
     "text": [
      "500/500 [==============================] - 10s 20ms/step - loss: 0.4548 - accuracy: 0.8501 - val_loss: 0.4755 - val_accuracy: 0.8440 - lr: 0.0010\n",
      "Epoch 11/50\n",
      "496/500 [============================>.] - ETA: 0s - loss: 0.4303 - accuracy: 0.8594INFO:tensorflow:Assets written to: best_model/assets\n"
     ]
    },
    {
     "name": "stderr",
     "output_type": "stream",
     "text": [
      "INFO:tensorflow:Assets written to: best_model/assets\n"
     ]
    },
    {
     "name": "stdout",
     "output_type": "stream",
     "text": [
      "500/500 [==============================] - 10s 20ms/step - loss: 0.4304 - accuracy: 0.8595 - val_loss: 0.4334 - val_accuracy: 0.8505 - lr: 0.0010\n",
      "Epoch 12/50\n",
      "497/500 [============================>.] - ETA: 0s - loss: 0.3966 - accuracy: 0.8745INFO:tensorflow:Assets written to: best_model/assets\n"
     ]
    },
    {
     "name": "stderr",
     "output_type": "stream",
     "text": [
      "INFO:tensorflow:Assets written to: best_model/assets\n"
     ]
    },
    {
     "name": "stdout",
     "output_type": "stream",
     "text": [
      "500/500 [==============================] - 10s 21ms/step - loss: 0.3974 - accuracy: 0.8743 - val_loss: 0.3916 - val_accuracy: 0.8680 - lr: 0.0010\n",
      "Epoch 13/50\n",
      "495/500 [============================>.] - ETA: 0s - loss: 0.3786 - accuracy: 0.8789INFO:tensorflow:Assets written to: best_model/assets\n"
     ]
    },
    {
     "name": "stderr",
     "output_type": "stream",
     "text": [
      "INFO:tensorflow:Assets written to: best_model/assets\n"
     ]
    },
    {
     "name": "stdout",
     "output_type": "stream",
     "text": [
      "500/500 [==============================] - 10s 20ms/step - loss: 0.3785 - accuracy: 0.8787 - val_loss: 0.4367 - val_accuracy: 0.8720 - lr: 0.0010\n",
      "Epoch 14/50\n",
      "498/500 [============================>.] - ETA: 0s - loss: 0.3562 - accuracy: 0.8904INFO:tensorflow:Assets written to: best_model/assets\n"
     ]
    },
    {
     "name": "stderr",
     "output_type": "stream",
     "text": [
      "INFO:tensorflow:Assets written to: best_model/assets\n"
     ]
    },
    {
     "name": "stdout",
     "output_type": "stream",
     "text": [
      "500/500 [==============================] - 10s 21ms/step - loss: 0.3565 - accuracy: 0.8904 - val_loss: 0.3723 - val_accuracy: 0.8865 - lr: 0.0010\n",
      "Epoch 15/50\n",
      "498/500 [============================>.] - ETA: 0s - loss: 0.3376 - accuracy: 0.8973INFO:tensorflow:Assets written to: best_model/assets\n"
     ]
    },
    {
     "name": "stderr",
     "output_type": "stream",
     "text": [
      "INFO:tensorflow:Assets written to: best_model/assets\n"
     ]
    },
    {
     "name": "stdout",
     "output_type": "stream",
     "text": [
      "500/500 [==============================] - 10s 21ms/step - loss: 0.3381 - accuracy: 0.8969 - val_loss: 0.3272 - val_accuracy: 0.8885 - lr: 0.0010\n",
      "Epoch 16/50\n",
      "496/500 [============================>.] - ETA: 0s - loss: 0.3205 - accuracy: 0.8996INFO:tensorflow:Assets written to: best_model/assets\n"
     ]
    },
    {
     "name": "stderr",
     "output_type": "stream",
     "text": [
      "INFO:tensorflow:Assets written to: best_model/assets\n"
     ]
    },
    {
     "name": "stdout",
     "output_type": "stream",
     "text": [
      "500/500 [==============================] - 10s 21ms/step - loss: 0.3205 - accuracy: 0.8995 - val_loss: 0.3269 - val_accuracy: 0.8960 - lr: 0.0010\n",
      "Epoch 17/50\n",
      "497/500 [============================>.] - ETA: 0s - loss: 0.3002 - accuracy: 0.9093INFO:tensorflow:Assets written to: best_model/assets\n"
     ]
    },
    {
     "name": "stderr",
     "output_type": "stream",
     "text": [
      "INFO:tensorflow:Assets written to: best_model/assets\n"
     ]
    },
    {
     "name": "stdout",
     "output_type": "stream",
     "text": [
      "500/500 [==============================] - 10s 20ms/step - loss: 0.3012 - accuracy: 0.9089 - val_loss: 0.3243 - val_accuracy: 0.8975 - lr: 0.0010\n",
      "Epoch 18/50\n",
      "495/500 [============================>.] - ETA: 0s - loss: 0.2913 - accuracy: 0.9117INFO:tensorflow:Assets written to: best_model/assets\n"
     ]
    },
    {
     "name": "stderr",
     "output_type": "stream",
     "text": [
      "INFO:tensorflow:Assets written to: best_model/assets\n"
     ]
    },
    {
     "name": "stdout",
     "output_type": "stream",
     "text": [
      "500/500 [==============================] - 10s 20ms/step - loss: 0.2918 - accuracy: 0.9116 - val_loss: 0.2993 - val_accuracy: 0.8995 - lr: 0.0010\n",
      "Epoch 19/50\n",
      "495/500 [============================>.] - ETA: 0s - loss: 0.2814 - accuracy: 0.9129INFO:tensorflow:Assets written to: best_model/assets\n"
     ]
    },
    {
     "name": "stderr",
     "output_type": "stream",
     "text": [
      "INFO:tensorflow:Assets written to: best_model/assets\n"
     ]
    },
    {
     "name": "stdout",
     "output_type": "stream",
     "text": [
      "500/500 [==============================] - 10s 20ms/step - loss: 0.2810 - accuracy: 0.9131 - val_loss: 0.3003 - val_accuracy: 0.9025 - lr: 0.0010\n",
      "Epoch 20/50\n",
      "497/500 [============================>.] - ETA: 0s - loss: 0.2754 - accuracy: 0.9169INFO:tensorflow:Assets written to: best_model/assets\n"
     ]
    },
    {
     "name": "stderr",
     "output_type": "stream",
     "text": [
      "INFO:tensorflow:Assets written to: best_model/assets\n"
     ]
    },
    {
     "name": "stdout",
     "output_type": "stream",
     "text": [
      "500/500 [==============================] - 10s 21ms/step - loss: 0.2756 - accuracy: 0.9167 - val_loss: 0.2810 - val_accuracy: 0.9070 - lr: 0.0010\n",
      "Epoch 21/50\n",
      "496/500 [============================>.] - ETA: 0s - loss: 0.2576 - accuracy: 0.9200INFO:tensorflow:Assets written to: best_model/assets\n"
     ]
    },
    {
     "name": "stderr",
     "output_type": "stream",
     "text": [
      "INFO:tensorflow:Assets written to: best_model/assets\n"
     ]
    },
    {
     "name": "stdout",
     "output_type": "stream",
     "text": [
      "500/500 [==============================] - 10s 21ms/step - loss: 0.2578 - accuracy: 0.9199 - val_loss: 0.2787 - val_accuracy: 0.9090 - lr: 0.0010\n",
      "Epoch 22/50\n",
      "500/500 [==============================] - 5s 9ms/step - loss: 0.2484 - accuracy: 0.9243 - val_loss: 0.2807 - val_accuracy: 0.9075 - lr: 0.0010\n",
      "Epoch 23/50\n",
      "497/500 [============================>.] - ETA: 0s - loss: 0.2371 - accuracy: 0.9279INFO:tensorflow:Assets written to: best_model/assets\n"
     ]
    },
    {
     "name": "stderr",
     "output_type": "stream",
     "text": [
      "INFO:tensorflow:Assets written to: best_model/assets\n"
     ]
    },
    {
     "name": "stdout",
     "output_type": "stream",
     "text": [
      "500/500 [==============================] - 10s 20ms/step - loss: 0.2373 - accuracy: 0.9278 - val_loss: 0.2500 - val_accuracy: 0.9125 - lr: 0.0010\n",
      "Epoch 24/50\n",
      "500/500 [==============================] - 5s 9ms/step - loss: 0.2389 - accuracy: 0.9265 - val_loss: 0.2971 - val_accuracy: 0.9100 - lr: 0.0010\n",
      "Epoch 25/50\n",
      "498/500 [============================>.] - ETA: 0s - loss: 0.2321 - accuracy: 0.9273INFO:tensorflow:Assets written to: best_model/assets\n"
     ]
    },
    {
     "name": "stderr",
     "output_type": "stream",
     "text": [
      "INFO:tensorflow:Assets written to: best_model/assets\n"
     ]
    },
    {
     "name": "stdout",
     "output_type": "stream",
     "text": [
      "500/500 [==============================] - 10s 20ms/step - loss: 0.2319 - accuracy: 0.9274 - val_loss: 0.2567 - val_accuracy: 0.9180 - lr: 0.0010\n",
      "Epoch 26/50\n",
      "498/500 [============================>.] - ETA: 0s - loss: 0.2240 - accuracy: 0.9298INFO:tensorflow:Assets written to: best_model/assets\n"
     ]
    },
    {
     "name": "stderr",
     "output_type": "stream",
     "text": [
      "INFO:tensorflow:Assets written to: best_model/assets\n"
     ]
    },
    {
     "name": "stdout",
     "output_type": "stream",
     "text": [
      "500/500 [==============================] - 10s 20ms/step - loss: 0.2241 - accuracy: 0.9296 - val_loss: 0.2627 - val_accuracy: 0.9200 - lr: 0.0010\n",
      "Epoch 27/50\n",
      "497/500 [============================>.] - ETA: 0s - loss: 0.2135 - accuracy: 0.9322INFO:tensorflow:Assets written to: best_model/assets\n"
     ]
    },
    {
     "name": "stderr",
     "output_type": "stream",
     "text": [
      "INFO:tensorflow:Assets written to: best_model/assets\n"
     ]
    },
    {
     "name": "stdout",
     "output_type": "stream",
     "text": [
      "500/500 [==============================] - 10s 20ms/step - loss: 0.2147 - accuracy: 0.9319 - val_loss: 0.2450 - val_accuracy: 0.9240 - lr: 0.0010\n",
      "Epoch 28/50\n",
      "500/500 [==============================] - 5s 9ms/step - loss: 0.2109 - accuracy: 0.9334 - val_loss: 0.2382 - val_accuracy: 0.9195 - lr: 0.0010\n",
      "Epoch 29/50\n",
      "500/500 [==============================] - 5s 9ms/step - loss: 0.2053 - accuracy: 0.9359 - val_loss: 0.2520 - val_accuracy: 0.9175 - lr: 0.0010\n",
      "Epoch 30/50\n",
      "499/500 [============================>.] - ETA: 0s - loss: 0.1973 - accuracy: 0.9373INFO:tensorflow:Assets written to: best_model/assets\n"
     ]
    },
    {
     "name": "stderr",
     "output_type": "stream",
     "text": [
      "INFO:tensorflow:Assets written to: best_model/assets\n"
     ]
    },
    {
     "name": "stdout",
     "output_type": "stream",
     "text": [
      "500/500 [==============================] - 10s 21ms/step - loss: 0.1972 - accuracy: 0.9374 - val_loss: 0.2368 - val_accuracy: 0.9245 - lr: 0.0010\n",
      "Epoch 31/50\n",
      "500/500 [==============================] - 5s 9ms/step - loss: 0.1954 - accuracy: 0.9379 - val_loss: 0.2412 - val_accuracy: 0.9170 - lr: 0.0010\n",
      "Epoch 32/50\n",
      "500/500 [==============================] - 5s 9ms/step - loss: 0.2008 - accuracy: 0.9386 - val_loss: 0.2425 - val_accuracy: 0.9140 - lr: 0.0010\n",
      "Epoch 33/50\n",
      "496/500 [============================>.] - ETA: 0s - loss: 0.1945 - accuracy: 0.9377\n",
      "Epoch 33: ReduceLROnPlateau reducing learning rate to 0.00020000000949949026.\n",
      "500/500 [==============================] - 5s 9ms/step - loss: 0.1952 - accuracy: 0.9377 - val_loss: 0.2452 - val_accuracy: 0.9195 - lr: 0.0010\n",
      "Epoch 34/50\n",
      "500/500 [==============================] - 5s 9ms/step - loss: 0.1776 - accuracy: 0.9431 - val_loss: 0.2328 - val_accuracy: 0.9225 - lr: 2.0000e-04\n",
      "Epoch 35/50\n",
      "497/500 [============================>.] - ETA: 0s - loss: 0.1730 - accuracy: 0.9445INFO:tensorflow:Assets written to: best_model/assets\n"
     ]
    },
    {
     "name": "stderr",
     "output_type": "stream",
     "text": [
      "INFO:tensorflow:Assets written to: best_model/assets\n"
     ]
    },
    {
     "name": "stdout",
     "output_type": "stream",
     "text": [
      "500/500 [==============================] - 10s 20ms/step - loss: 0.1734 - accuracy: 0.9443 - val_loss: 0.2371 - val_accuracy: 0.9260 - lr: 2.0000e-04\n",
      "Epoch 36/50\n",
      "500/500 [==============================] - ETA: 0s - loss: 0.1665 - accuracy: 0.9459INFO:tensorflow:Assets written to: best_model/assets\n"
     ]
    },
    {
     "name": "stderr",
     "output_type": "stream",
     "text": [
      "INFO:tensorflow:Assets written to: best_model/assets\n"
     ]
    },
    {
     "name": "stdout",
     "output_type": "stream",
     "text": [
      "500/500 [==============================] - 10s 20ms/step - loss: 0.1665 - accuracy: 0.9459 - val_loss: 0.2407 - val_accuracy: 0.9265 - lr: 2.0000e-04\n",
      "Epoch 37/50\n",
      "500/500 [==============================] - 5s 9ms/step - loss: 0.1671 - accuracy: 0.9456 - val_loss: 0.2379 - val_accuracy: 0.9255 - lr: 2.0000e-04\n",
      "Epoch 38/50\n",
      "500/500 [==============================] - 5s 9ms/step - loss: 0.1680 - accuracy: 0.9467 - val_loss: 0.2356 - val_accuracy: 0.9245 - lr: 2.0000e-04\n",
      "Epoch 39/50\n",
      "496/500 [============================>.] - ETA: 0s - loss: 0.1628 - accuracy: 0.9476\n",
      "Epoch 39: ReduceLROnPlateau reducing learning rate to 4.0000001899898055e-05.\n",
      "500/500 [==============================] - 5s 9ms/step - loss: 0.1637 - accuracy: 0.9474 - val_loss: 0.2339 - val_accuracy: 0.9245 - lr: 2.0000e-04\n",
      "Epoch 40/50\n",
      "500/500 [==============================] - 5s 9ms/step - loss: 0.1601 - accuracy: 0.9469 - val_loss: 0.2368 - val_accuracy: 0.9255 - lr: 4.0000e-05\n",
      "Epoch 41/50\n",
      "500/500 [==============================] - 5s 9ms/step - loss: 0.1677 - accuracy: 0.9436 - val_loss: 0.2335 - val_accuracy: 0.9250 - lr: 4.0000e-05\n",
      "Epoch 42/50\n",
      "499/500 [============================>.] - ETA: 0s - loss: 0.1593 - accuracy: 0.9473\n",
      "Epoch 42: ReduceLROnPlateau reducing learning rate to 8.000000525498762e-06.\n",
      "500/500 [==============================] - 5s 9ms/step - loss: 0.1609 - accuracy: 0.9470 - val_loss: 0.2323 - val_accuracy: 0.9255 - lr: 4.0000e-05\n",
      "Epoch 43/50\n",
      "500/500 [==============================] - 5s 9ms/step - loss: 0.1575 - accuracy: 0.9505 - val_loss: 0.2327 - val_accuracy: 0.9250 - lr: 8.0000e-06\n",
      "Epoch 44/50\n",
      "500/500 [==============================] - 5s 9ms/step - loss: 0.1609 - accuracy: 0.9460 - val_loss: 0.2323 - val_accuracy: 0.9255 - lr: 8.0000e-06\n",
      "Epoch 45/50\n",
      "497/500 [============================>.] - ETA: 0s - loss: 0.1649 - accuracy: 0.9471\n",
      "Epoch 45: ReduceLROnPlateau reducing learning rate to 1.6000001778593287e-06.\n",
      "500/500 [==============================] - 5s 9ms/step - loss: 0.1646 - accuracy: 0.9472 - val_loss: 0.2321 - val_accuracy: 0.9255 - lr: 8.0000e-06\n",
      "Epoch 46/50\n",
      "500/500 [==============================] - 5s 9ms/step - loss: 0.1583 - accuracy: 0.9481 - val_loss: 0.2320 - val_accuracy: 0.9255 - lr: 1.6000e-06\n",
      "Epoch 47/50\n",
      "500/500 [==============================] - 5s 10ms/step - loss: 0.1509 - accuracy: 0.9493 - val_loss: 0.2321 - val_accuracy: 0.9255 - lr: 1.6000e-06\n",
      "Epoch 48/50\n",
      "500/500 [==============================] - ETA: 0s - loss: 0.1611 - accuracy: 0.9470\n",
      "Epoch 48: ReduceLROnPlateau reducing learning rate to 3.200000264769187e-07.\n",
      "500/500 [==============================] - 5s 10ms/step - loss: 0.1611 - accuracy: 0.9470 - val_loss: 0.2321 - val_accuracy: 0.9250 - lr: 1.6000e-06\n",
      "Epoch 49/50\n",
      "500/500 [==============================] - 5s 9ms/step - loss: 0.1626 - accuracy: 0.9482 - val_loss: 0.2321 - val_accuracy: 0.9250 - lr: 3.2000e-07\n",
      "Epoch 50/50\n",
      "500/500 [==============================] - 5s 9ms/step - loss: 0.1612 - accuracy: 0.9485 - val_loss: 0.2322 - val_accuracy: 0.9255 - lr: 3.2000e-07\n"
     ]
    }
   ],
   "source": [
    "#train the model\n",
    "\n",
    "h = model.fit(\n",
    "    padded_train_seq, np.array(labels),\n",
    "    validation_data=(val_seq, np.array(val_labels)),\n",
    "    epochs=50,\n",
    "    callbacks=callbacks,\n",
    ")\n"
   ]
  },
  {
   "cell_type": "code",
   "execution_count": 34,
   "metadata": {},
   "outputs": [
    {
     "name": "stdout",
     "output_type": "stream",
     "text": [
      "Best Training Accuracy:  0.9505000114440918\n",
      "Best Validation Accuracy:  0.9265000224113464\n"
     ]
    }
   ],
   "source": [
    "#output best validation accuracy \n",
    "print(\"Best Training Accuracy: \", max(h.history['accuracy']))\n",
    "print(\"Best Validation Accuracy: \", max(h.history['val_accuracy']))\n"
   ]
  },
  {
   "cell_type": "markdown",
   "metadata": {},
   "source": [
    "# Hyperparameter Tuning with Optuna"
   ]
  },
  {
   "cell_type": "markdown",
   "metadata": {},
   "source": [
    "Trying to optimize Hyperparameters even more using Optuna. Search space is relatively small because I already tried out manually quite a bit above."
   ]
  },
  {
   "cell_type": "code",
   "execution_count": 38,
   "metadata": {},
   "outputs": [],
   "source": [
    "import optuna\n",
    "\n",
    "def objective(trial):\n",
    "    # Hyperparameters to be tuned\n",
    "    lstm_units = trial.suggest_categorical('lstm_units', [15, 25])\n",
    "    dropout_rate= trial.suggest_float('dropout_rate', 0.1, 0.6)\n",
    "    learning_rate = trial.suggest_float('learning_rate', 1e-5, 1e-2, log=True)\n",
    "\n",
    "    # Suggest optimizer\n",
    "    optimizer_options = ['adam', 'sgd', 'rmsprop']\n",
    "    optimizer_selected = trial.suggest_categorical('optimizer', optimizer_options)\n",
    "\n",
    "    if optimizer_selected == 'adam':\n",
    "        optimizer = tf.keras.optimizers.legacy.Adam(learning_rate=learning_rate)\n",
    "    elif optimizer_selected == 'sgd':\n",
    "        optimizer = tf.keras.optimizers.legacy.SGD(learning_rate=learning_rate)\n",
    "    elif optimizer_selected == 'rmsprop':\n",
    "        optimizer = tf.keras.optimizers.legacy.RMSprop(learning_rate=learning_rate)\n",
    "\n",
    "\n",
    "    # Model definition\n",
    "    model = tf.keras.models.Sequential([\n",
    "        tf.keras.layers.Embedding(10000, 16, input_length=maxlen),\n",
    "        tf.keras.layers.Bidirectional(tf.keras.layers.LSTM(lstm_units, return_sequences=True, dropout=dropout_rate)),\n",
    "        tf.keras.layers.Bidirectional(tf.keras.layers.LSTM(lstm_units, dropout=dropout_rate)),\n",
    "        tf.keras.layers.Dropout(dropout_rate),\n",
    "        tf.keras.layers.Dense(6, activation='softmax')\n",
    "    ])\n",
    "\n",
    "    # Compile the model\n",
    "    model.compile(loss='sparse_categorical_crossentropy', optimizer=optimizer, metrics=['accuracy'])\n",
    "\n",
    "    # Train the model\n",
    "    h_o = model.fit(padded_train_seq, np.array(labels), \n",
    "                        validation_data=(val_seq, np.array(val_labels)), \n",
    "                        epochs=50,  \n",
    "                        batch_size=128,\n",
    "                        verbose=0)  # Set verbose to 0 to minimize log messages\n",
    "\n",
    "    # Retrieve the best validation accuracy in this trial\n",
    "    best_val_accuracy = max(h_o.history['val_accuracy'])\n",
    "    return best_val_accuracy\n",
    "\n"
   ]
  },
  {
   "cell_type": "code",
   "execution_count": 39,
   "metadata": {},
   "outputs": [
    {
     "name": "stderr",
     "output_type": "stream",
     "text": [
      "[I 2023-12-27 00:12:17,669] A new study created in memory with name: no-name-7317ce42-7183-4495-911d-79a7ee284329\n",
      "[I 2023-12-27 00:14:30,296] Trial 0 finished with value: 0.3774999976158142 and parameters: {'lstm_units': 25, 'dropout_rate': 0.1879606798640345, 'learning_rate': 1.66342814312247e-05, 'optimizer': 'rmsprop'}. Best is trial 0 with value: 0.3774999976158142.\n",
      "[I 2023-12-27 00:16:46,402] Trial 1 finished with value: 0.9139999747276306 and parameters: {'lstm_units': 25, 'dropout_rate': 0.5006017623649985, 'learning_rate': 0.0012906819595127528, 'optimizer': 'rmsprop'}. Best is trial 1 with value: 0.9139999747276306.\n",
      "[I 2023-12-27 00:19:10,348] Trial 2 finished with value: 0.5220000147819519 and parameters: {'lstm_units': 25, 'dropout_rate': 0.2486977766298635, 'learning_rate': 3.096691245501557e-05, 'optimizer': 'rmsprop'}. Best is trial 1 with value: 0.9139999747276306.\n",
      "[I 2023-12-27 00:21:35,321] Trial 3 finished with value: 0.35249999165534973 and parameters: {'lstm_units': 25, 'dropout_rate': 0.4635015665836414, 'learning_rate': 0.0001351100243868949, 'optimizer': 'sgd'}. Best is trial 1 with value: 0.9139999747276306.\n",
      "[I 2023-12-27 00:23:52,409] Trial 4 finished with value: 0.9049999713897705 and parameters: {'lstm_units': 25, 'dropout_rate': 0.11567405083216528, 'learning_rate': 0.0012801141006565605, 'optimizer': 'rmsprop'}. Best is trial 1 with value: 0.9139999747276306.\n",
      "[I 2023-12-27 00:25:26,608] Trial 5 finished with value: 0.35199999809265137 and parameters: {'lstm_units': 15, 'dropout_rate': 0.18620040445621458, 'learning_rate': 1.405905757225274e-05, 'optimizer': 'rmsprop'}. Best is trial 1 with value: 0.9139999747276306.\n",
      "[I 2023-12-27 00:27:41,431] Trial 6 finished with value: 0.9415000081062317 and parameters: {'lstm_units': 25, 'dropout_rate': 0.19899630333885862, 'learning_rate': 0.0075659171694358665, 'optimizer': 'rmsprop'}. Best is trial 6 with value: 0.9415000081062317.\n",
      "[I 2023-12-27 00:29:16,821] Trial 7 finished with value: 0.8500000238418579 and parameters: {'lstm_units': 15, 'dropout_rate': 0.2412772974668149, 'learning_rate': 0.000227271312807674, 'optimizer': 'rmsprop'}. Best is trial 6 with value: 0.9415000081062317.\n",
      "[I 2023-12-27 00:30:50,117] Trial 8 finished with value: 0.7835000157356262 and parameters: {'lstm_units': 15, 'dropout_rate': 0.45924552014552444, 'learning_rate': 0.0001410118938601438, 'optimizer': 'rmsprop'}. Best is trial 6 with value: 0.9415000081062317.\n",
      "[I 2023-12-27 00:32:22,243] Trial 9 finished with value: 0.35199999809265137 and parameters: {'lstm_units': 15, 'dropout_rate': 0.4221886451946174, 'learning_rate': 0.0015377606181297692, 'optimizer': 'sgd'}. Best is trial 6 with value: 0.9415000081062317.\n",
      "[I 2023-12-27 00:34:42,583] Trial 10 finished with value: 0.9200000166893005 and parameters: {'lstm_units': 25, 'dropout_rate': 0.5663432279765592, 'learning_rate': 0.008572102800680104, 'optimizer': 'adam'}. Best is trial 6 with value: 0.9415000081062317.\n",
      "[I 2023-12-27 00:37:06,212] Trial 11 finished with value: 0.9290000200271606 and parameters: {'lstm_units': 25, 'dropout_rate': 0.5854256392735098, 'learning_rate': 0.00943261383466702, 'optimizer': 'adam'}. Best is trial 6 with value: 0.9415000081062317.\n",
      "[I 2023-12-27 00:39:27,767] Trial 12 finished with value: 0.9340000152587891 and parameters: {'lstm_units': 25, 'dropout_rate': 0.3009511839727712, 'learning_rate': 0.00972794495130238, 'optimizer': 'adam'}. Best is trial 6 with value: 0.9415000081062317.\n",
      "[I 2023-12-27 00:41:45,345] Trial 13 finished with value: 0.9340000152587891 and parameters: {'lstm_units': 25, 'dropout_rate': 0.3356686558538371, 'learning_rate': 0.00410874032446903, 'optimizer': 'adam'}. Best is trial 6 with value: 0.9415000081062317.\n",
      "[I 2023-12-27 00:44:04,597] Trial 14 finished with value: 0.9244999885559082 and parameters: {'lstm_units': 25, 'dropout_rate': 0.31602725891240646, 'learning_rate': 0.003336075259376298, 'optimizer': 'adam'}. Best is trial 6 with value: 0.9415000081062317.\n",
      "[I 2023-12-27 00:46:20,708] Trial 15 finished with value: 0.8550000190734863 and parameters: {'lstm_units': 25, 'dropout_rate': 0.38098285540278926, 'learning_rate': 0.0004942275460207497, 'optimizer': 'adam'}. Best is trial 6 with value: 0.9415000081062317.\n",
      "[I 2023-12-27 00:48:48,098] Trial 16 finished with value: 0.35199999809265137 and parameters: {'lstm_units': 25, 'dropout_rate': 0.29043395511559156, 'learning_rate': 0.00424059375866811, 'optimizer': 'sgd'}. Best is trial 6 with value: 0.9415000081062317.\n",
      "[I 2023-12-27 00:51:12,012] Trial 17 finished with value: 0.9294999837875366 and parameters: {'lstm_units': 25, 'dropout_rate': 0.36839147255058863, 'learning_rate': 0.00919047003721694, 'optimizer': 'adam'}. Best is trial 6 with value: 0.9415000081062317.\n",
      "[I 2023-12-27 00:52:44,829] Trial 18 finished with value: 0.9120000004768372 and parameters: {'lstm_units': 15, 'dropout_rate': 0.11000043084969086, 'learning_rate': 0.0026082181134535766, 'optimizer': 'adam'}. Best is trial 6 with value: 0.9415000081062317.\n",
      "[I 2023-12-27 00:55:05,462] Trial 19 finished with value: 0.35199999809265137 and parameters: {'lstm_units': 25, 'dropout_rate': 0.2766923917695675, 'learning_rate': 0.0005612199533284962, 'optimizer': 'sgd'}. Best is trial 6 with value: 0.9415000081062317.\n",
      "[I 2023-12-27 00:57:27,216] Trial 20 finished with value: 0.934499979019165 and parameters: {'lstm_units': 25, 'dropout_rate': 0.19946415032191456, 'learning_rate': 0.00500655782173386, 'optimizer': 'rmsprop'}. Best is trial 6 with value: 0.9415000081062317.\n",
      "[I 2023-12-27 00:59:44,321] Trial 21 finished with value: 0.9375 and parameters: {'lstm_units': 25, 'dropout_rate': 0.200676367853188, 'learning_rate': 0.005387719222043722, 'optimizer': 'rmsprop'}. Best is trial 6 with value: 0.9415000081062317.\n",
      "[I 2023-12-27 01:02:03,131] Trial 22 finished with value: 0.9384999871253967 and parameters: {'lstm_units': 25, 'dropout_rate': 0.18645772695767818, 'learning_rate': 0.004829527474739832, 'optimizer': 'rmsprop'}. Best is trial 6 with value: 0.9415000081062317.\n",
      "[I 2023-12-27 01:04:29,037] Trial 23 finished with value: 0.9190000295639038 and parameters: {'lstm_units': 25, 'dropout_rate': 0.1537778076930767, 'learning_rate': 0.0022578520702068276, 'optimizer': 'rmsprop'}. Best is trial 6 with value: 0.9415000081062317.\n",
      "[I 2023-12-27 01:06:43,868] Trial 24 finished with value: 0.9380000233650208 and parameters: {'lstm_units': 25, 'dropout_rate': 0.231700253720412, 'learning_rate': 0.005353792371338617, 'optimizer': 'rmsprop'}. Best is trial 6 with value: 0.9415000081062317.\n"
     ]
    },
    {
     "name": "stdout",
     "output_type": "stream",
     "text": [
      "Number of finished trials:  25\n",
      "Best trial:\n",
      "  Value:  0.9415000081062317\n",
      "  Params: \n",
      "    lstm_units: 25\n",
      "    dropout_rate: 0.19899630333885862\n",
      "    learning_rate: 0.0075659171694358665\n",
      "    optimizer: rmsprop\n"
     ]
    }
   ],
   "source": [
    "study = optuna.create_study(direction='maximize')\n",
    "study.optimize(objective, n_trials=25)  # Set n_trials to the number of iterations\n",
    "\n",
    "print(\"Number of finished trials: \", len(study.trials))\n",
    "print(\"Best trial:\")\n",
    "trial = study.best_trial\n",
    "\n",
    "print(\"  Value: \", trial.value)\n",
    "print(\"  Params: \")\n",
    "for key, value in trial.params.items():\n",
    "    print(f\"    {key}: {value}\")\n"
   ]
  },
  {
   "cell_type": "code",
   "execution_count": 55,
   "metadata": {},
   "outputs": [],
   "source": [
    "#retrieve the best hyperparameters\n",
    "best_trial = study.best_trial\n",
    "best_lstm_units = best_trial.params['lstm_units']\n",
    "best_dropout_rate = best_trial.params['dropout_rate']\n",
    "best_learning_rate = best_trial.params['learning_rate']\n",
    "best_optimizer = best_trial.params['optimizer']\n"
   ]
  },
  {
   "cell_type": "markdown",
   "metadata": {},
   "source": [
    "## Optimized Model after Optuna"
   ]
  },
  {
   "cell_type": "code",
   "execution_count": 57,
   "metadata": {},
   "outputs": [
    {
     "name": "stdout",
     "output_type": "stream",
     "text": [
      "Epoch 1/50\n",
      "500/500 [==============================] - 8s 11ms/step - loss: 0.9485 - accuracy: 0.6524 - val_loss: 0.4631 - val_accuracy: 0.8455 - lr: 0.0076\n",
      "Epoch 2/50\n",
      "500/500 [==============================] - 5s 11ms/step - loss: 0.3426 - accuracy: 0.8893 - val_loss: 0.2358 - val_accuracy: 0.9115 - lr: 0.0076\n",
      "Epoch 3/50\n",
      "500/500 [==============================] - 5s 11ms/step - loss: 0.2237 - accuracy: 0.9201 - val_loss: 0.1586 - val_accuracy: 0.9295 - lr: 0.0076\n",
      "Epoch 4/50\n",
      "500/500 [==============================] - 5s 11ms/step - loss: 0.1693 - accuracy: 0.9362 - val_loss: 0.1648 - val_accuracy: 0.9245 - lr: 0.0076\n",
      "Epoch 5/50\n",
      "500/500 [==============================] - 5s 11ms/step - loss: 0.1421 - accuracy: 0.9466 - val_loss: 0.1466 - val_accuracy: 0.9360 - lr: 0.0076\n",
      "Epoch 6/50\n",
      "500/500 [==============================] - 5s 11ms/step - loss: 0.1251 - accuracy: 0.9511 - val_loss: 0.1748 - val_accuracy: 0.9380 - lr: 0.0076\n",
      "Epoch 7/50\n",
      "500/500 [==============================] - 5s 10ms/step - loss: 0.1175 - accuracy: 0.9575 - val_loss: 0.1588 - val_accuracy: 0.9390 - lr: 0.0076\n",
      "Epoch 8/50\n",
      "500/500 [==============================] - 5s 10ms/step - loss: 0.1048 - accuracy: 0.9625 - val_loss: 0.1687 - val_accuracy: 0.9345 - lr: 0.0076\n",
      "Epoch 9/50\n",
      "496/500 [============================>.] - ETA: 0s - loss: 0.0925 - accuracy: 0.9660INFO:tensorflow:Assets written to: best_model/assets\n"
     ]
    },
    {
     "name": "stderr",
     "output_type": "stream",
     "text": [
      "INFO:tensorflow:Assets written to: best_model/assets\n"
     ]
    },
    {
     "name": "stdout",
     "output_type": "stream",
     "text": [
      "500/500 [==============================] - 11s 21ms/step - loss: 0.0926 - accuracy: 0.9661 - val_loss: 0.1722 - val_accuracy: 0.9410 - lr: 0.0076\n",
      "Epoch 10/50\n",
      "497/500 [============================>.] - ETA: 0s - loss: 0.0930 - accuracy: 0.9672INFO:tensorflow:Assets written to: best_model/assets\n"
     ]
    },
    {
     "name": "stderr",
     "output_type": "stream",
     "text": [
      "INFO:tensorflow:Assets written to: best_model/assets\n"
     ]
    },
    {
     "name": "stdout",
     "output_type": "stream",
     "text": [
      "500/500 [==============================] - 12s 23ms/step - loss: 0.0931 - accuracy: 0.9672 - val_loss: 0.1692 - val_accuracy: 0.9415 - lr: 0.0076\n",
      "Epoch 11/50\n",
      "498/500 [============================>.] - ETA: 0s - loss: 0.0825 - accuracy: 0.9711INFO:tensorflow:Assets written to: best_model/assets\n"
     ]
    },
    {
     "name": "stderr",
     "output_type": "stream",
     "text": [
      "INFO:tensorflow:Assets written to: best_model/assets\n"
     ]
    },
    {
     "name": "stdout",
     "output_type": "stream",
     "text": [
      "500/500 [==============================] - 11s 22ms/step - loss: 0.0827 - accuracy: 0.9710 - val_loss: 0.1864 - val_accuracy: 0.9440 - lr: 0.0076\n",
      "Epoch 12/50\n",
      "500/500 [==============================] - 5s 10ms/step - loss: 0.0783 - accuracy: 0.9740 - val_loss: 0.2096 - val_accuracy: 0.9415 - lr: 0.0076\n",
      "Epoch 13/50\n",
      "500/500 [==============================] - 5s 10ms/step - loss: 0.0726 - accuracy: 0.9736 - val_loss: 0.2132 - val_accuracy: 0.9400 - lr: 0.0076\n",
      "Epoch 14/50\n",
      "497/500 [============================>.] - ETA: 0s - loss: 0.0677 - accuracy: 0.9768\n",
      "Epoch 14: ReduceLROnPlateau reducing learning rate to 0.0015131833963096142.\n",
      "500/500 [==============================] - 5s 10ms/step - loss: 0.0676 - accuracy: 0.9768 - val_loss: 0.2108 - val_accuracy: 0.9365 - lr: 0.0076\n",
      "Epoch 15/50\n",
      "500/500 [==============================] - 5s 10ms/step - loss: 0.0500 - accuracy: 0.9821 - val_loss: 0.2225 - val_accuracy: 0.9420 - lr: 0.0015\n",
      "Epoch 16/50\n",
      "500/500 [==============================] - 5s 10ms/step - loss: 0.0431 - accuracy: 0.9846 - val_loss: 0.2354 - val_accuracy: 0.9435 - lr: 0.0015\n",
      "Epoch 17/50\n",
      "497/500 [============================>.] - ETA: 0s - loss: 0.0427 - accuracy: 0.9858\n",
      "Epoch 17: ReduceLROnPlateau reducing learning rate to 0.0003026366699486971.\n",
      "500/500 [==============================] - 5s 11ms/step - loss: 0.0428 - accuracy: 0.9858 - val_loss: 0.2545 - val_accuracy: 0.9440 - lr: 0.0015\n",
      "Epoch 18/50\n",
      "500/500 [==============================] - 5s 11ms/step - loss: 0.0351 - accuracy: 0.9868 - val_loss: 0.2536 - val_accuracy: 0.9440 - lr: 3.0264e-04\n",
      "Epoch 19/50\n",
      "500/500 [==============================] - 5s 10ms/step - loss: 0.0402 - accuracy: 0.9857 - val_loss: 0.2508 - val_accuracy: 0.9425 - lr: 3.0264e-04\n",
      "Epoch 20/50\n",
      "496/500 [============================>.] - ETA: 0s - loss: 0.0366 - accuracy: 0.9875\n",
      "Epoch 20: ReduceLROnPlateau reducing learning rate to 6.052733515389264e-05.\n",
      "500/500 [==============================] - 6s 11ms/step - loss: 0.0365 - accuracy: 0.9876 - val_loss: 0.2538 - val_accuracy: 0.9435 - lr: 3.0264e-04\n",
      "Epoch 21/50\n",
      "500/500 [==============================] - 5s 11ms/step - loss: 0.0359 - accuracy: 0.9878 - val_loss: 0.2545 - val_accuracy: 0.9435 - lr: 6.0527e-05\n",
      "Epoch 21: early stopping\n"
     ]
    }
   ],
   "source": [
    "#build the model with the best hyperparameters\n",
    "model_opt = tf.keras.models.Sequential([\n",
    "    tf.keras.layers.Embedding(10000, 16, input_length=maxlen),   \n",
    "    tf.keras.layers.Bidirectional(tf.keras.layers.LSTM(best_lstm_units, return_sequences=True,\n",
    "                                                       dropout=best_dropout_rate)),  \n",
    "    tf.keras.layers.Bidirectional(tf.keras.layers.LSTM(best_lstm_units, dropout=best_dropout_rate)),  \n",
    "    tf.keras.layers.Dropout(best_dropout_rate),\n",
    "    tf.keras.layers.Dense(6, activation='softmax')  \n",
    "])\n",
    "\n",
    "# Suggest optimizer\n",
    "if best_optimizer == 'adam':\n",
    "    optimizer = tf.keras.optimizers.legacy.Adam(learning_rate=best_learning_rate)\n",
    "elif best_optimizer == 'sgd':\n",
    "    optimizer = tf.keras.optimizers.legacy.SGD(learning_rate=best_learning_rate)\n",
    "elif best_optimizer == 'rmsprop':\n",
    "    optimizer = tf.keras.optimizers.legacy.RMSprop(learning_rate=best_learning_rate)\n",
    "\n",
    "#compile the model\n",
    "model_opt.compile(\n",
    "    loss='sparse_categorical_crossentropy',\n",
    "    optimizer=optimizer,\n",
    "    metrics=['accuracy']\n",
    ")\n",
    "\n",
    "#train the model\n",
    "\n",
    "callbacks = [\n",
    "    checkpoint, \n",
    "    early, \n",
    "    reduce_lr]\n",
    "\n",
    "h_opt = model_opt.fit(\n",
    "    padded_train_seq, np.array(labels),\n",
    "    validation_data=(val_seq, np.array(val_labels)),\n",
    "    epochs=50,\n",
    "    callbacks=callbacks,\n",
    ")\n"
   ]
  },
  {
   "cell_type": "code",
   "execution_count": 58,
   "metadata": {},
   "outputs": [
    {
     "name": "stdout",
     "output_type": "stream",
     "text": [
      "Best Training Accuracy:  0.9878125190734863\n",
      "Best Validation Accuracy:  0.9440000057220459\n"
     ]
    }
   ],
   "source": [
    "#output best validation accuracy \n",
    "print(\"Best Training Accuracy: \", max(h_opt.history['accuracy']))\n",
    "print(\"Best Validation Accuracy: \", max(h_opt.history['val_accuracy']))"
   ]
  },
  {
   "cell_type": "markdown",
   "metadata": {},
   "source": [
    "## Evaluating the Model"
   ]
  },
  {
   "cell_type": "code",
   "execution_count": 59,
   "metadata": {},
   "outputs": [
    {
     "data": {
      "image/png": "[encoded data removed]",
      "text/plain": [
       "<Figure size 1600x600 with 2 Axes>"
      ]
     },
     "metadata": {},
     "output_type": "display_data"
    }
   ],
   "source": [
    "#visualizing the training history\n",
    "import history_plot\n",
    "\n",
    "history_plot.show_history(h_opt)"
   ]
  },
  {
   "cell_type": "code",
   "execution_count": 64,
   "metadata": {},
   "outputs": [],
   "source": [
    "#test set\n",
    "test_tweets, test_labels = get_tweet(test)\n",
    "test_seq = get_sequences(tokenizer, test_tweets)\n"
   ]
  },
  {
   "cell_type": "code",
   "execution_count": 65,
   "metadata": {},
   "outputs": [],
   "source": [
    "from tensorflow.keras.models import load_model\n",
    "\n",
    "# Load the best saved model from the file\n",
    "best_model = load_model('best_model')"
   ]
  },
  {
   "cell_type": "code",
   "execution_count": 66,
   "metadata": {},
   "outputs": [
    {
     "name": "stdout",
     "output_type": "stream",
     "text": [
      "63/63 [==============================] - 1s 3ms/step - loss: 0.2064 - accuracy: 0.9330\n"
     ]
    }
   ],
   "source": [
    "_ = best_model.evaluate(test_seq, np.array(test_labels))"
   ]
  },
  {
   "cell_type": "code",
   "execution_count": 68,
   "metadata": {},
   "outputs": [
    {
     "name": "stdout",
     "output_type": "stream",
     "text": [
      "Sentence: im feeling completely idiotic by not being ablo to contribute\n",
      "Emotion: sadness\n",
      "1/1 [==============================] - 1s 1s/step\n",
      "Predicted Emotion: sadness\n"
     ]
    }
   ],
   "source": [
    "#random example from test set\n",
    "example = random.randint(0, len(test_labels) - 1)\n",
    "\n",
    "print('Sentence:', test_tweets[example])\n",
    "print('Emotion:', index_to_class[test_labels[example]])\n",
    "\n",
    "p = best_model.predict(np.expand_dims(test_seq[example], axis=0))[0]\n",
    "pred_class = index_to_class[np.argmax(p).astype('uint8')]\n",
    "\n",
    "print('Predicted Emotion:', pred_class)"
   ]
  },
  {
   "cell_type": "code",
   "execution_count": 69,
   "metadata": {},
   "outputs": [
    {
     "name": "stdout",
     "output_type": "stream",
     "text": [
      "63/63 [==============================] - 0s 3ms/step\n"
     ]
    }
   ],
   "source": [
    "#take a look at all the predictions against the ground truth\n",
    "preds = best_model.predict(test_seq)"
   ]
  },
  {
   "cell_type": "code",
   "execution_count": 70,
   "metadata": {},
   "outputs": [
    {
     "data": {
      "image/png": "[encoded data removed]",
      "text/plain": [
       "<Figure size 800x800 with 2 Axes>"
      ]
     },
     "metadata": {},
     "output_type": "display_data"
    }
   ],
   "source": [
    "#visualizing the training history\n",
    "import confusion_matrix\n",
    "\n",
    "confusion_matrix.show_confusion_matrix(\n",
    "    np.array(test_labels), \n",
    "    np.argmax(preds, axis=1), \n",
    "    [index_to_class[i] for i in range(len(index_to_class))]\n",
    ")"
   ]
  }
 ],
 "metadata": {
  "kernelspec": {
   "display_name": "PythonIntro",
   "language": "python",
   "name": "python3"
  },
  "language_info": {
   "codemirror_mode": {
    "name": "ipython",
    "version": 3
   },
   "file_extension": ".py",
   "mimetype": "text/x-python",
   "name": "python",
   "nbconvert_exporter": "python",
   "pygments_lexer": "ipython3",
   "version": "3.11.5"
  }
 },
 "nbformat": 4,
 "nbformat_minor": 2
}
